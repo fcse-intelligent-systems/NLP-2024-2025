{
  "nbformat": 4,
  "nbformat_minor": 0,
  "metadata": {
    "colab": {
      "provenance": [],
      "gpuType": "T4"
    },
    "kernelspec": {
      "name": "python3",
      "display_name": "Python 3"
    },
    "language_info": {
      "name": "python"
    },
    "accelerator": "GPU",
    "widgets": {
      "application/vnd.jupyter.widget-state+json": {
        "710a13b4abce4ea29ff930aa2c815a34": {
          "model_module": "@jupyter-widgets/controls",
          "model_name": "HBoxModel",
          "model_module_version": "1.5.0",
          "state": {
            "_dom_classes": [],
            "_model_module": "@jupyter-widgets/controls",
            "_model_module_version": "1.5.0",
            "_model_name": "HBoxModel",
            "_view_count": null,
            "_view_module": "@jupyter-widgets/controls",
            "_view_module_version": "1.5.0",
            "_view_name": "HBoxView",
            "box_style": "",
            "children": [
              "IPY_MODEL_c486a0a967234e10ac0d79e765d2c501",
              "IPY_MODEL_39f57af83fff497eb560324f6f9486c1",
              "IPY_MODEL_b1916c486ced4722bfa2a1d3cab7f85b"
            ],
            "layout": "IPY_MODEL_e288443ff70c490ab003ef707d87204a"
          }
        },
        "c486a0a967234e10ac0d79e765d2c501": {
          "model_module": "@jupyter-widgets/controls",
          "model_name": "HTMLModel",
          "model_module_version": "1.5.0",
          "state": {
            "_dom_classes": [],
            "_model_module": "@jupyter-widgets/controls",
            "_model_module_version": "1.5.0",
            "_model_name": "HTMLModel",
            "_view_count": null,
            "_view_module": "@jupyter-widgets/controls",
            "_view_module_version": "1.5.0",
            "_view_name": "HTMLView",
            "description": "",
            "description_tooltip": null,
            "layout": "IPY_MODEL_dc7f4a37ccf749708b53b29a2114fa8b",
            "placeholder": "​",
            "style": "IPY_MODEL_2e950462c9e544cd82d729b2862580d7",
            "value": "Loading checkpoint shards: 100%"
          }
        },
        "39f57af83fff497eb560324f6f9486c1": {
          "model_module": "@jupyter-widgets/controls",
          "model_name": "FloatProgressModel",
          "model_module_version": "1.5.0",
          "state": {
            "_dom_classes": [],
            "_model_module": "@jupyter-widgets/controls",
            "_model_module_version": "1.5.0",
            "_model_name": "FloatProgressModel",
            "_view_count": null,
            "_view_module": "@jupyter-widgets/controls",
            "_view_module_version": "1.5.0",
            "_view_name": "ProgressView",
            "bar_style": "success",
            "description": "",
            "description_tooltip": null,
            "layout": "IPY_MODEL_b6789677f9794b6d94136b4c5012cae0",
            "max": 2,
            "min": 0,
            "orientation": "horizontal",
            "style": "IPY_MODEL_22bedac6a2d64806b40fdb38e72a6787",
            "value": 2
          }
        },
        "b1916c486ced4722bfa2a1d3cab7f85b": {
          "model_module": "@jupyter-widgets/controls",
          "model_name": "HTMLModel",
          "model_module_version": "1.5.0",
          "state": {
            "_dom_classes": [],
            "_model_module": "@jupyter-widgets/controls",
            "_model_module_version": "1.5.0",
            "_model_name": "HTMLModel",
            "_view_count": null,
            "_view_module": "@jupyter-widgets/controls",
            "_view_module_version": "1.5.0",
            "_view_name": "HTMLView",
            "description": "",
            "description_tooltip": null,
            "layout": "IPY_MODEL_3c55d1ec800141b5a99073c2293788f9",
            "placeholder": "​",
            "style": "IPY_MODEL_4497c5ff65434691aab8bdb605050fa2",
            "value": " 2/2 [01:02&lt;00:00, 28.58s/it]"
          }
        },
        "e288443ff70c490ab003ef707d87204a": {
          "model_module": "@jupyter-widgets/base",
          "model_name": "LayoutModel",
          "model_module_version": "1.2.0",
          "state": {
            "_model_module": "@jupyter-widgets/base",
            "_model_module_version": "1.2.0",
            "_model_name": "LayoutModel",
            "_view_count": null,
            "_view_module": "@jupyter-widgets/base",
            "_view_module_version": "1.2.0",
            "_view_name": "LayoutView",
            "align_content": null,
            "align_items": null,
            "align_self": null,
            "border": null,
            "bottom": null,
            "display": null,
            "flex": null,
            "flex_flow": null,
            "grid_area": null,
            "grid_auto_columns": null,
            "grid_auto_flow": null,
            "grid_auto_rows": null,
            "grid_column": null,
            "grid_gap": null,
            "grid_row": null,
            "grid_template_areas": null,
            "grid_template_columns": null,
            "grid_template_rows": null,
            "height": null,
            "justify_content": null,
            "justify_items": null,
            "left": null,
            "margin": null,
            "max_height": null,
            "max_width": null,
            "min_height": null,
            "min_width": null,
            "object_fit": null,
            "object_position": null,
            "order": null,
            "overflow": null,
            "overflow_x": null,
            "overflow_y": null,
            "padding": null,
            "right": null,
            "top": null,
            "visibility": null,
            "width": null
          }
        },
        "dc7f4a37ccf749708b53b29a2114fa8b": {
          "model_module": "@jupyter-widgets/base",
          "model_name": "LayoutModel",
          "model_module_version": "1.2.0",
          "state": {
            "_model_module": "@jupyter-widgets/base",
            "_model_module_version": "1.2.0",
            "_model_name": "LayoutModel",
            "_view_count": null,
            "_view_module": "@jupyter-widgets/base",
            "_view_module_version": "1.2.0",
            "_view_name": "LayoutView",
            "align_content": null,
            "align_items": null,
            "align_self": null,
            "border": null,
            "bottom": null,
            "display": null,
            "flex": null,
            "flex_flow": null,
            "grid_area": null,
            "grid_auto_columns": null,
            "grid_auto_flow": null,
            "grid_auto_rows": null,
            "grid_column": null,
            "grid_gap": null,
            "grid_row": null,
            "grid_template_areas": null,
            "grid_template_columns": null,
            "grid_template_rows": null,
            "height": null,
            "justify_content": null,
            "justify_items": null,
            "left": null,
            "margin": null,
            "max_height": null,
            "max_width": null,
            "min_height": null,
            "min_width": null,
            "object_fit": null,
            "object_position": null,
            "order": null,
            "overflow": null,
            "overflow_x": null,
            "overflow_y": null,
            "padding": null,
            "right": null,
            "top": null,
            "visibility": null,
            "width": null
          }
        },
        "2e950462c9e544cd82d729b2862580d7": {
          "model_module": "@jupyter-widgets/controls",
          "model_name": "DescriptionStyleModel",
          "model_module_version": "1.5.0",
          "state": {
            "_model_module": "@jupyter-widgets/controls",
            "_model_module_version": "1.5.0",
            "_model_name": "DescriptionStyleModel",
            "_view_count": null,
            "_view_module": "@jupyter-widgets/base",
            "_view_module_version": "1.2.0",
            "_view_name": "StyleView",
            "description_width": ""
          }
        },
        "b6789677f9794b6d94136b4c5012cae0": {
          "model_module": "@jupyter-widgets/base",
          "model_name": "LayoutModel",
          "model_module_version": "1.2.0",
          "state": {
            "_model_module": "@jupyter-widgets/base",
            "_model_module_version": "1.2.0",
            "_model_name": "LayoutModel",
            "_view_count": null,
            "_view_module": "@jupyter-widgets/base",
            "_view_module_version": "1.2.0",
            "_view_name": "LayoutView",
            "align_content": null,
            "align_items": null,
            "align_self": null,
            "border": null,
            "bottom": null,
            "display": null,
            "flex": null,
            "flex_flow": null,
            "grid_area": null,
            "grid_auto_columns": null,
            "grid_auto_flow": null,
            "grid_auto_rows": null,
            "grid_column": null,
            "grid_gap": null,
            "grid_row": null,
            "grid_template_areas": null,
            "grid_template_columns": null,
            "grid_template_rows": null,
            "height": null,
            "justify_content": null,
            "justify_items": null,
            "left": null,
            "margin": null,
            "max_height": null,
            "max_width": null,
            "min_height": null,
            "min_width": null,
            "object_fit": null,
            "object_position": null,
            "order": null,
            "overflow": null,
            "overflow_x": null,
            "overflow_y": null,
            "padding": null,
            "right": null,
            "top": null,
            "visibility": null,
            "width": null
          }
        },
        "22bedac6a2d64806b40fdb38e72a6787": {
          "model_module": "@jupyter-widgets/controls",
          "model_name": "ProgressStyleModel",
          "model_module_version": "1.5.0",
          "state": {
            "_model_module": "@jupyter-widgets/controls",
            "_model_module_version": "1.5.0",
            "_model_name": "ProgressStyleModel",
            "_view_count": null,
            "_view_module": "@jupyter-widgets/base",
            "_view_module_version": "1.2.0",
            "_view_name": "StyleView",
            "bar_color": null,
            "description_width": ""
          }
        },
        "3c55d1ec800141b5a99073c2293788f9": {
          "model_module": "@jupyter-widgets/base",
          "model_name": "LayoutModel",
          "model_module_version": "1.2.0",
          "state": {
            "_model_module": "@jupyter-widgets/base",
            "_model_module_version": "1.2.0",
            "_model_name": "LayoutModel",
            "_view_count": null,
            "_view_module": "@jupyter-widgets/base",
            "_view_module_version": "1.2.0",
            "_view_name": "LayoutView",
            "align_content": null,
            "align_items": null,
            "align_self": null,
            "border": null,
            "bottom": null,
            "display": null,
            "flex": null,
            "flex_flow": null,
            "grid_area": null,
            "grid_auto_columns": null,
            "grid_auto_flow": null,
            "grid_auto_rows": null,
            "grid_column": null,
            "grid_gap": null,
            "grid_row": null,
            "grid_template_areas": null,
            "grid_template_columns": null,
            "grid_template_rows": null,
            "height": null,
            "justify_content": null,
            "justify_items": null,
            "left": null,
            "margin": null,
            "max_height": null,
            "max_width": null,
            "min_height": null,
            "min_width": null,
            "object_fit": null,
            "object_position": null,
            "order": null,
            "overflow": null,
            "overflow_x": null,
            "overflow_y": null,
            "padding": null,
            "right": null,
            "top": null,
            "visibility": null,
            "width": null
          }
        },
        "4497c5ff65434691aab8bdb605050fa2": {
          "model_module": "@jupyter-widgets/controls",
          "model_name": "DescriptionStyleModel",
          "model_module_version": "1.5.0",
          "state": {
            "_model_module": "@jupyter-widgets/controls",
            "_model_module_version": "1.5.0",
            "_model_name": "DescriptionStyleModel",
            "_view_count": null,
            "_view_module": "@jupyter-widgets/base",
            "_view_module_version": "1.2.0",
            "_view_name": "StyleView",
            "description_width": ""
          }
        }
      }
    }
  },
  "cells": [
    {
      "cell_type": "code",
      "source": [
        "!pip install bitsandbytes"
      ],
      "metadata": {
        "colab": {
          "base_uri": "https://localhost:8080/"
        },
        "collapsed": true,
        "id": "05r2UE0jmEIL",
        "outputId": "b2c2a0fb-2317-4a79-bceb-43cca8e5295a"
      },
      "execution_count": 3,
      "outputs": [
        {
          "output_type": "stream",
          "name": "stdout",
          "text": [
            "Requirement already satisfied: bitsandbytes in /usr/local/lib/python3.10/dist-packages (0.44.1)\n",
            "Requirement already satisfied: torch in /usr/local/lib/python3.10/dist-packages (from bitsandbytes) (2.5.1+cu121)\n",
            "Requirement already satisfied: numpy in /usr/local/lib/python3.10/dist-packages (from bitsandbytes) (1.26.4)\n",
            "Requirement already satisfied: filelock in /usr/local/lib/python3.10/dist-packages (from torch->bitsandbytes) (3.16.1)\n",
            "Requirement already satisfied: typing-extensions>=4.8.0 in /usr/local/lib/python3.10/dist-packages (from torch->bitsandbytes) (4.12.2)\n",
            "Requirement already satisfied: networkx in /usr/local/lib/python3.10/dist-packages (from torch->bitsandbytes) (3.4.2)\n",
            "Requirement already satisfied: jinja2 in /usr/local/lib/python3.10/dist-packages (from torch->bitsandbytes) (3.1.4)\n",
            "Requirement already satisfied: fsspec in /usr/local/lib/python3.10/dist-packages (from torch->bitsandbytes) (2024.10.0)\n",
            "Requirement already satisfied: sympy==1.13.1 in /usr/local/lib/python3.10/dist-packages (from torch->bitsandbytes) (1.13.1)\n",
            "Requirement already satisfied: mpmath<1.4,>=1.1.0 in /usr/local/lib/python3.10/dist-packages (from sympy==1.13.1->torch->bitsandbytes) (1.3.0)\n",
            "Requirement already satisfied: MarkupSafe>=2.0 in /usr/local/lib/python3.10/dist-packages (from jinja2->torch->bitsandbytes) (3.0.2)\n"
          ]
        }
      ]
    },
    {
      "cell_type": "code",
      "source": [
        "from huggingface_hub import login\n",
        "login(token='<YOUR TOKEN HERE>')"
      ],
      "metadata": {
        "id": "-UR2JwqtVCpS"
      },
      "execution_count": null,
      "outputs": []
    },
    {
      "cell_type": "code",
      "source": [
        "import torch\n",
        "import pandas as pd\n",
        "from transformers import AutoTokenizer, AutoModelForCausalLM, BitsAndBytesConfig"
      ],
      "metadata": {
        "id": "l3ZamChcjFe7"
      },
      "execution_count": 5,
      "outputs": []
    },
    {
      "cell_type": "code",
      "source": [
        "data = pd.read_csv('en_es_corpus.txt',\n",
        "                   sep='\\t', header=None)\n",
        "data = data[[0, 1]]\n",
        "data.columns = ['EN', 'ES']\n",
        "data = data[-200:]\n",
        "prefix = 'Translate from English to Spanish: '\n",
        "sentences_en = [f'{prefix}{s}' for s in data['EN'].values.tolist()]\n",
        "sentences_es = data['ES'].values.tolist()"
      ],
      "metadata": {
        "collapsed": true,
        "id": "P7CZkpINjT0d"
      },
      "execution_count": 6,
      "outputs": []
    },
    {
      "cell_type": "code",
      "source": [
        "model_name = 'llama-2-7b-chat-hf'\n",
        "tokenizer_name = 'llama-2-7b-chat-hf'\n",
        "padding_size = 10"
      ],
      "metadata": {
        "id": "pS28gCNti1nq"
      },
      "execution_count": 7,
      "outputs": []
    },
    {
      "cell_type": "code",
      "source": [
        "tokenizer = AutoTokenizer.from_pretrained(f'meta-llama/{model_name}',\n",
        "                                          use_auth_token=True,\n",
        "                                          model_max_length=padding_size)\n",
        "tokenizer.pad_token = tokenizer.bos_token\n",
        "tokenizer.padding_side = 'left'"
      ],
      "metadata": {
        "colab": {
          "base_uri": "https://localhost:8080/"
        },
        "collapsed": true,
        "id": "JXlpVdJBiy7P",
        "outputId": "c4ef3eb4-b3bf-49cf-f652-f7917f3f4ec3"
      },
      "execution_count": 8,
      "outputs": [
        {
          "output_type": "stream",
          "name": "stderr",
          "text": [
            "/usr/local/lib/python3.10/dist-packages/transformers/models/auto/tokenization_auto.py:809: FutureWarning: The `use_auth_token` argument is deprecated and will be removed in v5 of Transformers. Please use `token` instead.\n",
            "  warnings.warn(\n",
            "/usr/local/lib/python3.10/dist-packages/huggingface_hub/utils/_auth.py:94: UserWarning: \n",
            "The secret `HF_TOKEN` does not exist in your Colab secrets.\n",
            "To authenticate with the Hugging Face Hub, create a token in your settings tab (https://huggingface.co/settings/tokens), set it as secret in your Google Colab and restart your session.\n",
            "You will be able to reuse this secret in all of your notebooks.\n",
            "Please note that authentication is recommended but still optional to access public models or datasets.\n",
            "  warnings.warn(\n"
          ]
        }
      ]
    },
    {
      "cell_type": "code",
      "source": [
        "sentences_en"
      ],
      "metadata": {
        "colab": {
          "base_uri": "https://localhost:8080/"
        },
        "id": "9vKIEHcESBdH",
        "outputId": "5e52d98d-47b1-4ab0-c00c-4e5d30b9ecfe"
      },
      "execution_count": 9,
      "outputs": [
        {
          "output_type": "execute_result",
          "data": {
            "text/plain": [
              "['Translate from English to Spanish: I was just wondering if I could borrow three hundred dollars from you. I can pay you back next Monday.',\n",
              " 'Translate from English to Spanish: My father, grandfather, great-grandfather and great-great-grandfather all had the same name as I have.',\n",
              " 'Translate from English to Spanish: Some people consider it a waste of time to study languages such as Klingon, Interlingua and Esperanto.',\n",
              " \"Translate from English to Spanish: The Super Nintendo's graphics are amazing. They're so much better than those of the original Nintendo.\",\n",
              " 'Translate from English to Spanish: The iPad would be a perfect solution for me if it could properly display web pages with Flash content.',\n",
              " 'Translate from English to Spanish: Tom was determined not to make the same mistakes with his children that his parents had made with him.',\n",
              " 'Translate from English to Spanish: When you watch television or listen to the radio, the music which you hear is often African in origin.',\n",
              " 'Translate from English to Spanish: When you watch television or listen to the radio, the music which you hear is often African in origin.',\n",
              " \"Translate from English to Spanish: You should make sure that you get there on time. Tom won't wait more than ten minutes if you are late.\",\n",
              " 'Translate from English to Spanish: If you\\'re not happy with your purchase, you can return it at any time. \"Could I get that in writing?\"',\n",
              " 'Translate from English to Spanish: Disconnect the power cable from the modem, wait for approximately one minute, then reconnect the cable.',\n",
              " \"Translate from English to Spanish: I look for all the world like an athlete in this outfit, but the truth is I don't do any sports at all.\",\n",
              " 'Translate from English to Spanish: The attitude of the court toward young criminals is different from its attitude toward adult criminals.',\n",
              " 'Translate from English to Spanish: The band featured Tom on guitar, Mary on bass guitar and vocals, John on drums, and Alice on keyboards.',\n",
              " 'Translate from English to Spanish: There were three hundred cardboard boxes filled with old clothes ready to be sent to the disaster area.',\n",
              " 'Translate from English to Spanish: Tom felt the stiffness in his joints as he stood up after sitting in the same position for a long time.',\n",
              " 'Translate from English to Spanish: Tom prefers to take a shower in the morning while Mary prefers to take a bath just before going to bed.',\n",
              " 'Translate from English to Spanish: Tom sprang out of bed, threw on some clothes, ate breakfast and was out of the door within ten minutes.',\n",
              " \"Translate from English to Spanish: If you'd told me about it earlier, I could've been free. However, tomorrow I have plans to go back home.\",\n",
              " 'Translate from English to Spanish: It takes more time to prepare the car for getting painted than it takes for the actual paint job itself.',\n",
              " \"Translate from English to Spanish: Mary's post-operative abdominal pain was caused by the surgeon leaving a surgical instrument inside her.\",\n",
              " \"Translate from English to Spanish: On school nights, Tom goes to bed at nine o'clock, but on Fridays and Saturdays, he stays up much later.\",\n",
              " 'Translate from English to Spanish: Some people think that it is difficult for a native speaker of English to learn Chinese, but I disagree.',\n",
              " \"Translate from English to Spanish: The world's greatest singers and most of its famous musicians have been fat or at least decidedly plump.\",\n",
              " \"Translate from English to Spanish: Tom and Mary don't have much time to talk together. Their children are always demanding their attention.\",\n",
              " 'Translate from English to Spanish: Tom thinks he knows how much money Mary makes, but Mary makes quite a bit more than Tom thinks she does.',\n",
              " 'Translate from English to Spanish: During hard times, people might not go on a trip, but they might be willing to pay extra for good coffee.',\n",
              " 'Translate from English to Spanish: If you watch the sun setting on a warm, damp day, you can see the moisture changing the shape of the sun.',\n",
              " \"Translate from English to Spanish: Some superstitious people in America believe that if a black cat crosses your path, you'll have bad luck.\",\n",
              " \"Translate from English to Spanish: The trouble with the world isn't that people know too little, but they know so many things that ain't so.\",\n",
              " \"Translate from English to Spanish: The worst-case scenario is that Tom will lose his job and won't be able to keep up his mortgage payments.\",\n",
              " 'Translate from English to Spanish: Thomas A. Edison so loves his work that he sleeps an average of less than four hours of each twenty-four.',\n",
              " 'Translate from English to Spanish: Tom was able to swim across the river, but Mary had to wait for someone to give her a ride in their boat.',\n",
              " 'Translate from English to Spanish: We were unsure what kind of person Tom would be and whether he would like living in the same house as us.',\n",
              " \"Translate from English to Spanish: What's important isn't which university you've graduated from, but what you learned while you were there.\",\n",
              " 'Translate from English to Spanish: If your spouse is a politician, then likely your name will also appear in the newspaper from time to time.',\n",
              " 'Translate from English to Spanish: Last year, I spent so much time by myself that I almost forgot how to communicate effectively with others.',\n",
              " 'Translate from English to Spanish: The website is already available in 7 languages, and we hope to introduce new options in the coming weeks.',\n",
              " \"Translate from English to Spanish: Tom asked Mary a few questions that she couldn't answer, but she was able to answer most of his questions.\",\n",
              " \"Translate from English to Spanish: Tom couldn't hear what the teacher was saying because all of the other students were making so much noise.\",\n",
              " 'Translate from English to Spanish: We were unsure what kind of person Tom would be and whether he would like to live in the same house as us.',\n",
              " 'Translate from English to Spanish: When I woke up today, I yawned, stretched, rubbed the sleep out of my eyes, and put on a pair of slippers.',\n",
              " 'Translate from English to Spanish: Within the past 14 days, have you been in close contact with someone who has tested positive for COVID-19?',\n",
              " \"Translate from English to Spanish: At one time we were enemies, but we've buried the hatchet and we are now on friendly terms with each other.\",\n",
              " \"Translate from English to Spanish: Cats are like girls. If they talk to you it's great, but if you try to talk to them, it doesn't go so well.\",\n",
              " \"Translate from English to Spanish: He began to suspect something was wrong when the seller didn't allow him to test the item before buying it.\",\n",
              " \"Translate from English to Spanish: He got tired of being the devil's advocate and now agrees with every idea they suggest, no matter how dumb.\",\n",
              " \"Translate from English to Spanish: Incidentally, this room doesn't have anything like an air conditioner. All it has is a hand-held paper fan.\",\n",
              " 'Translate from English to Spanish: Last year in the Philippines, earthquakes and tidal waves resulted in the deaths of more than 6,000 people.',\n",
              " 'Translate from English to Spanish: The seven questions that an engineer has to ask himself are: who, what, when, where, why, how and how much.',\n",
              " 'Translate from English to Spanish: There have been a lot of complaints recently about drivers not obeying the speed limits in downtown Boston.',\n",
              " \"Translate from English to Spanish: We're gonna make sure that no one is taking advantage of the American people for their own short-term gain.\",\n",
              " \"Translate from English to Spanish: Why did I buy flowers? Is that what you just said? It's really noisy here so I couldn't hear you very well.\",\n",
              " 'Translate from English to Spanish: I like to feel sad. I know that most people try to avoid any kind of sad feeling. But I think that is wrong.',\n",
              " \"Translate from English to Spanish: I talked with Tom for over an hour before he said something that made me realize he wasn't a native speaker.\",\n",
              " 'Translate from English to Spanish: Eight years ago, we were in the early stages of what would become the worst economic crisis of our lifetimes.',\n",
              " \"Translate from English to Spanish: I don't think it's necessary for me to sound like a native speaker. I just want to be able to speak fluently.\",\n",
              " \"Translate from English to Spanish: I don't think there is any excuse for his behavior. At the same time, we should listen to what he has to say.\",\n",
              " \"Translate from English to Spanish: If you don't start treating people with a little more respect, people may start avoiding you like the plague.\",\n",
              " 'Translate from English to Spanish: It is easier for a camel to pass through the eye of a needle than for a rich man to enter the kingdom of God.',\n",
              " \"Translate from English to Spanish: It's hard to be a woman. One must think like a man, act like a lady, look like a girl, and work like a horse.\",\n",
              " 'Translate from English to Spanish: The Internet is like a diamond mine. 99 percent of it is trash, but there are real gems if you can find them.',\n",
              " 'Translate from English to Spanish: When we started in 2008, we wrote down a list of people that we wanted to hire, then went out and hired them.',\n",
              " 'Translate from English to Spanish: A lot of banging and cussing could be heard coming out of the garage when Tom was trying to fix the lawnmower.',\n",
              " \"Translate from English to Spanish: I can't believe that you aren't at least willing to consider the possibility that there's another explanation.\",\n",
              " \"Translate from English to Spanish: It doesn't make sense to criticize someone for doing something that we would do if we were in their situation.\",\n",
              " \"Translate from English to Spanish: It doesn't make sense to criticize someone for doing something that we would do if we were in their situation.\",\n",
              " 'Translate from English to Spanish: Masculine qualities in a woman are seen as strength, while feminine qualities in a man are viewed as weakness.',\n",
              " \"Translate from English to Spanish: The graphic description of the victim's murder was too much for his mother, who ran out of the court in tears.\",\n",
              " \"Translate from English to Spanish: Even though Tom told Mary about his problem, he didn't want to listen to any advice she had on how to solve it.\",\n",
              " \"Translate from English to Spanish: I realize I may not be the most desirable man in the world, but I still hope you'll consider going out with me.\",\n",
              " 'Translate from English to Spanish: In preparation for painting a portrait, my friend takes many photographs in order to study the subject closely.',\n",
              " 'Translate from English to Spanish: Life would be infinitely happier if we could only be born at the age of eighty and gradually approach eighteen.',\n",
              " \"Translate from English to Spanish: People often lie about what they did on the weekend, so their friends won't realize how boring they really are.\",\n",
              " \"Translate from English to Spanish: Something you should know about me is that my greatest fear in life is that people will find out that I'm poor.\",\n",
              " 'Translate from English to Spanish: The police suspected there was a connection between the abandoned car and the dead body found three miles away.',\n",
              " \"Translate from English to Spanish: Tom got poor marks at school because, having to work on his parents' farm, he had hardly any time for studying.\",\n",
              " 'Translate from English to Spanish: Tom pressed his ear against the wall to see if he could hear what his parents were discussing in the next room.',\n",
              " 'Translate from English to Spanish: Tom was obsessed by the belief that, one by one, everyone around him was being abducted and replaced by aliens.',\n",
              " \"Translate from English to Spanish: I know that it is highly unlikely that you'd ever want to go out with me, but I still need to ask at least once.\",\n",
              " 'Translate from English to Spanish: Acting on advice from his astronomers, Alexander the Great decided not to attack Egypt and went to India instead.',\n",
              " \"Translate from English to Spanish: I came here to see if there was something I could do to help, but there doesn't seem to be anything for me to do.\",\n",
              " \"Translate from English to Spanish: I know you're upset about your car being totaled, but you weren't injured and you should be thankful to be alive.\",\n",
              " \"Translate from English to Spanish: I know you're upset about your car being totaled, but you weren't injured and you should be thankful to be alive.\",\n",
              " \"Translate from English to Spanish: I know you're upset about your car being totaled, but you weren't injured and you should be thankful to be alive.\",\n",
              " 'Translate from English to Spanish: The World Health Organization says alcohol abuse is the third leading cause of death and disability in the world.',\n",
              " 'Translate from English to Spanish: The economic strength of a country lies not alone in its ability to produce, but also in its capacity to consume.',\n",
              " 'Translate from English to Spanish: The teacher kept an electric pencil sharpener in the classroom for when students needed to sharpen their pencils.',\n",
              " 'Translate from English to Spanish: Babies can become dehydrated from a high fever, so I was told that it would be better to send him to the hospital.',\n",
              " \"Translate from English to Spanish: Did you know that in Japan, if you have a tattoo, you won't be allowed to bathe in many of the hot spring resorts?\",\n",
              " \"Translate from English to Spanish: Everybody has a right to his own opinion. However, sometimes it's better not to tell anybody what that opinion is.\",\n",
              " 'Translate from English to Spanish: The Himalayas were formed by the collision of the tectonic plates of India and Eurasia about 50 million years ago.',\n",
              " \"Translate from English to Spanish: The police can't find a single person who remembers seeing you where you said you were on the night of the murder.\",\n",
              " \"Translate from English to Spanish: Tom hadn't cleaned his keyboard for months, and it was clogged with dust, food particles, and God knows what else.\",\n",
              " 'Translate from English to Spanish: Tom likes Mary, but Mary likes John. To make matters even more interesting, John likes Alice, but Alice likes Tom.',\n",
              " 'Translate from English to Spanish: Tom was sad when he discovered that Mary was a gold digger and Mary was sad when she discovered that Tom was poor.',\n",
              " \"Translate from English to Spanish: What kind of a parent would leave their child unattended in the car outside the pub while they're inside drinking?\",\n",
              " 'Translate from English to Spanish: Witnesses told police that the train was travelling way over the speed limit when it derailed going around a bend.',\n",
              " \"Translate from English to Spanish: After talking to Tom for a few minutes, it became obvious his French wasn't very good, so Mary switched to English.\",\n",
              " 'Translate from English to Spanish: The Belo Monte dam in Brazil is a controversial project because of its impact on the environment and native people.',\n",
              " \"Translate from English to Spanish: Tom's constant arguing irritates some of his classmates. However, most of the class has just learned to ignore him.\",\n",
              " 'Translate from English to Spanish: How\\'s the trouble and strife? is an example of a sentence using Cockney rhyming slang. It means \"How\\'s your wife?\"',\n",
              " 'Translate from English to Spanish: Getting your message across is much more important than trying to say it exactly like a native speaker would say it.',\n",
              " 'Translate from English to Spanish: Over 100 tons of dust and sand-sized particles bombard the earth every day from space, most of which goes unnoticed.',\n",
              " 'Translate from English to Spanish: Over 100 tons of dust and sand-sized particles bombard the earth every day from space, most of which goes unnoticed.',\n",
              " 'Translate from English to Spanish: The typical elements of a foreign culture are changed into the typical elements of the local culture of translators.',\n",
              " \"Translate from English to Spanish: Tom laughed when everyone else laughed, but the truth was that he didn't understand a single word of what they said.\",\n",
              " 'Translate from English to Spanish: Tom tried to sell his old VCR instead of throwing it away, but no one would buy it, so he ended up throwing it away.',\n",
              " 'Translate from English to Spanish: A man touched down on the moon. A wall came down in Berlin. A world was connected by our own science and imagination.',\n",
              " 'Translate from English to Spanish: A man touched down on the moon. A wall came down in Berlin. A world was connected by our own science and imagination.',\n",
              " \"Translate from English to Spanish: Being happy doesn't mean that everything is perfect, but rather that you've decided to look beyond the imperfections.\",\n",
              " 'Translate from English to Spanish: Dr. Zamenhof believed that a language belongs to the people who speak it which is why he never copyrighted Esperanto.',\n",
              " 'Translate from English to Spanish: Every student who has graduated from our university has studied English with a native speaker for at least two years.',\n",
              " \"Translate from English to Spanish: If you don't want to put on sunscreen, that's your problem. Just don't come complaining to me when you get a sunburn.\",\n",
              " 'Translate from English to Spanish: It took Tom several hours to assemble a bunk bed that the instructions said would take less than an hour to assemble.',\n",
              " \"Translate from English to Spanish: Nobody has asked you to agree, but can't you at least accept that there are people who hold different views from you?\",\n",
              " 'Translate from English to Spanish: Tom and I used to talk about everything, but now he only wants to talk about Linux and free and open-source software.',\n",
              " 'Translate from English to Spanish: Tom didn\\'t know the meaning of \"anglophobia,\" so he did a quick web search to see if he could find out what it meant.',\n",
              " 'Translate from English to Spanish: Even though computer programmers may use semicolons every day, nowadays most people only use semicolons for emoticons.',\n",
              " 'Translate from English to Spanish: I had never eaten any kind of Thai food, so I was pretty excited about going to a Thai restaurant with my grandmother.',\n",
              " \"Translate from English to Spanish: The room didn't look very good after Tom painted it, because he didn't even bother to wash the walls or ceiling first.\",\n",
              " 'Translate from English to Spanish: When does your sister come back from work? \"I don\\'t know, but I think she\\'ll arrive at home a few minutes before me.\"',\n",
              " 'Translate from English to Spanish: Four of my favorite Christmas carols are \"Silent Night,\" \"Joy to the World,\" \"The First Noel\" and \"Away in the Manger.\"',\n",
              " 'Translate from English to Spanish: Four of my favorite Christmas carols are \"Silent Night,\" \"Joy to the World,\" \"The First Noel\" and \"Away in the Manger.\"',\n",
              " \"Translate from English to Spanish: My friend recommended that I shouldn't buy an iPad yet, but to wait until I see what Apple's competitors come out with.\",\n",
              " 'Translate from English to Spanish: Roger Miller entered the United States Army at the age of seventeen. He was sent to an army base near Atlanta, Georgia.',\n",
              " 'Translate from English to Spanish: A dog will remember three days of kindness for three years, but a cat will forget three years of kindness in three days.',\n",
              " 'Translate from English to Spanish: A trade delegation has gone to Japan ahead of the Prime Minister to crunch the numbers with their Japanese counterparts.',\n",
              " \"Translate from English to Spanish: After talking to Tom for a few minutes, it became obvious that his French wasn't very good, so Mary switched to English.\",\n",
              " \"Translate from English to Spanish: After talking to Tom for a few minutes, it became obvious that his French wasn't very good, so Mary switched to English.\",\n",
              " 'Translate from English to Spanish: Anyone whose comfort level depends on what someone else is wearing really needs to take a long, hard look at themselves.',\n",
              " \"Translate from English to Spanish: I think it's highly unlikely that Tom was not aware that he wouldn't be allowed to enter the museum without his parents.\",\n",
              " \"Translate from English to Spanish: I was lucky that the policeman didn't give me a ticket for making a U-turn at an intersection that had a no U-turn sign.\",\n",
              " \"Translate from English to Spanish: Tom isn't your average guy. He doesn't like things most guys like and he doesn't like to do things most men enjoy doing.\",\n",
              " 'Translate from English to Spanish: Cesar Chavez asked that strikers remain non-violent even though farm owners and their supporters sometimes used violence.',\n",
              " \"Translate from English to Spanish: Even now, I occasionally think I'd like to see you. Not the you that you are today, but the you I remember from the past.\",\n",
              " 'Translate from English to Spanish: Tom absconded with millions of dollars from his company and is living a life of luxury on an island in the Mediterranean.',\n",
              " 'Translate from English to Spanish: We should spend our time creating content for our website rather than wasting time worrying about minor cosmetic details.',\n",
              " 'Translate from English to Spanish: A lot of people who have up until now been spending money having a good time now need to be more careful with their money.',\n",
              " \"Translate from English to Spanish: It's very easy to sound natural in your own native language, and very easy to sound unnatural in your non-native language.\",\n",
              " 'Translate from English to Spanish: The difference between the right word and almost the right word is the difference between lightning and the lightning bug.',\n",
              " \"Translate from English to Spanish: Tom didn't know how long the leftover chicken had been in the fridge, so he erred on the side of caution and threw it out.\",\n",
              " \"Translate from English to Spanish: Your English is grammatically correct, but sometimes what you say just doesn't sound like what a native speaker would say.\",\n",
              " 'Translate from English to Spanish: I have Japanese and Chinese friends who speak to each other in English since that is the only language they have in common.',\n",
              " 'Translate from English to Spanish: I have Japanese and Chinese friends who speak to each other in English since that is the only language they have in common.',\n",
              " \"Translate from English to Spanish: The world's first Ferris wheel was built in Chicago. It was named after its constructor, George Washington Gale Ferris, Jr.\",\n",
              " \"Translate from English to Spanish: All the doctors say that I shouldn't drink coffee, but, despite that, I do have a bit now and then when I'm in good company.\",\n",
              " \"Translate from English to Spanish: One thing I don't like about the iPad is that you can't easily install apps that aren't available through Apple's App Store.\",\n",
              " 'Translate from English to Spanish: Jingle Bells, a popular song around Christmas time, is not really a Christmas song. The lyrics say nothing about Christmas.',\n",
              " 'Translate from English to Spanish: Jingle Bells, a popular song around Christmas time, is not really a Christmas song. The lyrics say nothing about Christmas.',\n",
              " \"Translate from English to Spanish: I used to watch this anime a lot when I was a kid, but I can't quite remember what happened to the hero in the final episode.\",\n",
              " 'Translate from English to Spanish: If your company primarily does business with America, then you should be studying English with a native speaker from America.',\n",
              " 'Translate from English to Spanish: The English language is undoubtedly the easiest and at the same time the most efficient means of international communication.',\n",
              " 'Translate from English to Spanish: Instead of giving each other Christmas presents this year, we donated the amount we would have spent on presents to a charity.',\n",
              " 'Translate from English to Spanish: Singer and actress Selena Gomez started her career at age seven on the children\\'s public television show \"Barney and Friends.\"',\n",
              " 'Translate from English to Spanish: You always have the right to refuse treatment, however, I must explain the potential consequences if that will be your choice.',\n",
              " 'Translate from English to Spanish: A good newspaper reporter takes advantage of what he learns from any source, even the \"little bird told him so\" type of source.',\n",
              " 'Translate from English to Spanish: Food prices are at their highest level since the United Nations Food and Agriculture Organization began keeping records in 1990.',\n",
              " \"Translate from English to Spanish: I've heard that it's impossible to sound like a native speaker unless one starts speaking the language before the age of twelve.\",\n",
              " 'Translate from English to Spanish: No matter what your profession, or how happy you may be in it, there are moments when you wish you had chosen some other career.',\n",
              " \"Translate from English to Spanish: When Tom was a kid, he used to collect his father's cigarette butts until he had enough tobacco to roll a cigarette for himself.\",\n",
              " \"Translate from English to Spanish: When Tom was a kid, he used to collect his father's cigarette butts until he had enough tobacco to roll a cigarette for himself.\",\n",
              " 'Translate from English to Spanish: Satellite imagery is being used in an effort to narrow down the area in the Indian Ocean where floating debris has been observed.',\n",
              " 'Translate from English to Spanish: Honey, I know the budget is tight, but do you think we could splurge a bit and have a night out at a fancy restaurant this weekend?',\n",
              " 'Translate from English to Spanish: In the morning I greet people with \"Good morning.\" That\\'s an abbreviation for \"I wish you a good morning\" or \"Have a good morning\".',\n",
              " 'Translate from English to Spanish: Tom went to a fortune teller at the town fair and was told that someone would come into his life whose first name started with \"M\".',\n",
              " 'Translate from English to Spanish: Whenever Tom watches a series, he likes skipping to the last episode, and then going back to the start, so he knows what to expect.',\n",
              " 'Translate from English to Spanish: A committee is a group of people who individually can do nothing, but who, as a group, can meet and decide that nothing can be done.',\n",
              " \"Translate from English to Spanish: Oh, sure, I studied English in my school days. But it wasn't until two or three years ago that I really started taking it seriously.\",\n",
              " 'Translate from English to Spanish: In 1964, Roger Miller agreed to record sixteen songs. One of those songs was \"Dang Me.\" It became his first number one selling record.',\n",
              " 'Translate from English to Spanish: January, February, March, April, May, June, July, August, September, October, November and December are the twelve months of the year.',\n",
              " \"Translate from English to Spanish: Tom hadn't washed clothes in a long time, so he searched through his dirty clothes to see if there was something clean enough to wear.\",\n",
              " 'Translate from English to Spanish: One way to lower the number of errors in the Tatoeba Corpus would be to encourage people to only translate into their native languages.',\n",
              " 'Translate from English to Spanish: The twelve months of the year are January, February, March, April, May, June, July, August, September, October, November, and December.',\n",
              " 'Translate from English to Spanish: I want a religion that respects the differences that exist between people and that states that each individual has their own personality.',\n",
              " \"Translate from English to Spanish: She has a boyfriend she's been going out with since high school, but she feels their relationship is in a rut, so she's become discontented.\",\n",
              " 'Translate from English to Spanish: Always use distilled water in steam irons because using ordinary water will cause a mineral build-up over time that will clog the steam holes.',\n",
              " \"Translate from English to Spanish: I think it's a shame that some foreign language teachers were able to graduate from college without ever having studied with a native speaker.\",\n",
              " \"Translate from English to Spanish: You can fool some of the people all of the time, and all of the people some of the time, but you can't fool all of the people all of the time.\",\n",
              " \"Translate from English to Spanish: If you translate from your second language into your own native language, rather than the other way around, you're less likely to make mistakes.\",\n",
              " 'Translate from English to Spanish: People speak so much about the need for leaving a better planet for our children, and forget the urgency of leaving better children for our planet.',\n",
              " 'Translate from English to Spanish: The Australian Prime Minister has said that he does not intend to engage in megaphone diplomacy with Egypt over the jailing of an Australian journalist.',\n",
              " 'Translate from English to Spanish: The Tatoeba Project, which can be found online at tatoeba.org, is working on creating a large database of example sentences translated into many languages.',\n",
              " 'Translate from English to Spanish: You may not learn to speak as well as a native speaker, but you should be able to speak well enough that native speakers will understand what you have to say.',\n",
              " \"Translate from English to Spanish: If a person has not had a chance to acquire his target language by the time he's an adult, he's unlikely to be able to reach native speaker level in that language.\",\n",
              " \"Translate from English to Spanish: It's still too hard to find a job. And even if you have a job, chances are you're having a tougher time paying the rising costs of everything from groceries to gas.\",\n",
              " \"Translate from English to Spanish: You can't easily put photos on an iPad from more than one computer. However, you can email photos to yourself from various computers and download these photos to your iPad.\",\n",
              " \"Translate from English to Spanish: You can't view Flash content on an iPad. However, you can easily email yourself the URLs of these web pages and view that content on your regular computer when you get home.\",\n",
              " \"Translate from English to Spanish: You can't view Flash content on an iPad. However, you can easily email yourself the URLs of these web pages and view that content on your regular computer when you get home.\",\n",
              " 'Translate from English to Spanish: A mistake young people often make is to start learning too many languages at the same time, as they underestimate the difficulties and overestimate their own ability to learn them.',\n",
              " \"Translate from English to Spanish: No matter how much you try to convince people that chocolate is vanilla, it'll still be chocolate, even though you may manage to convince yourself and a few others that it's vanilla.\",\n",
              " 'Translate from English to Spanish: In 1969, Roger Miller recorded a song called \"You Don\\'t Want My Love.\" Today, this song is better known as \"In the Summer Time.\" It\\'s the first song he wrote and sang that became popular.',\n",
              " 'Translate from English to Spanish: A child who is a native speaker usually knows many things about his or her language that a non-native speaker who has been studying for years still does not know and perhaps will never know.',\n",
              " 'Translate from English to Spanish: There are four main causes of alcohol-related death. Injury from car accidents or violence is one. Diseases like cirrhosis of the liver, cancer, heart and blood system diseases are the others.',\n",
              " \"Translate from English to Spanish: There are mothers and fathers who will lie awake after the children fall asleep and wonder how they'll make the mortgage, or pay their doctor's bills, or save enough for their child's college education.\",\n",
              " 'Translate from English to Spanish: A carbon footprint is the amount of carbon dioxide pollution that we produce as a result of our activities. Some people try to reduce their carbon footprint because they are concerned about climate change.',\n",
              " 'Translate from English to Spanish: Since there are usually multiple websites on any given topic, I usually just click the back button when I arrive on any webpage that has pop-up advertising. I just go to the next page found by Google and hope for something less irritating.',\n",
              " 'Translate from English to Spanish: If you want to sound like a native speaker, you must be willing to practice saying the same sentence over and over in the same way that banjo players practice the same phrase over and over until they can play it correctly and at the desired tempo.',\n",
              " 'Translate from English to Spanish: It may be impossible to get a completely error-free corpus due to the nature of this kind of collaborative effort. However, if we encourage members to contribute sentences in their own languages rather than experiment in languages they are learning, we might be able to minimize errors.',\n",
              " \"Translate from English to Spanish: One day, I woke up to find that God had put hair on my face. I shaved it off. The next day, I found that God had put it back on my face, so I shaved it off again. On the third day, when I found that God had put hair back on my face again, I decided to let God have his way. That's why I have a beard.\"]"
            ]
          },
          "metadata": {},
          "execution_count": 9
        }
      ]
    },
    {
      "cell_type": "code",
      "source": [
        "inputs = tokenizer(sentences_en, truncation=True, padding=True, return_tensors='pt')"
      ],
      "metadata": {
        "id": "2mulA3ton8IA"
      },
      "execution_count": 10,
      "outputs": []
    },
    {
      "cell_type": "code",
      "source": [
        "inputs"
      ],
      "metadata": {
        "colab": {
          "base_uri": "https://localhost:8080/"
        },
        "id": "M1qx6W-ZSY8p",
        "outputId": "4a2558bb-152e-4e44-aa1a-1fa3da1712e5"
      },
      "execution_count": 11,
      "outputs": [
        {
          "output_type": "execute_result",
          "data": {
            "text/plain": [
              "{'input_ids': tensor([[    1,  4103,  9632,  ..., 29901,   306,   471],\n",
              "        [    1,  4103,  9632,  ..., 29901,  1619,  4783],\n",
              "        [    1,  4103,  9632,  ..., 29901,  3834,  2305],\n",
              "        ...,\n",
              "        [    1,  4103,  9632,  ..., 29901,   960,   366],\n",
              "        [    1,  4103,  9632,  ..., 29901,   739,  1122],\n",
              "        [    1,  4103,  9632,  ..., 29901,  3118,  2462]]), 'attention_mask': tensor([[1, 1, 1,  ..., 1, 1, 1],\n",
              "        [1, 1, 1,  ..., 1, 1, 1],\n",
              "        [1, 1, 1,  ..., 1, 1, 1],\n",
              "        ...,\n",
              "        [1, 1, 1,  ..., 1, 1, 1],\n",
              "        [1, 1, 1,  ..., 1, 1, 1],\n",
              "        [1, 1, 1,  ..., 1, 1, 1]])}"
            ]
          },
          "metadata": {},
          "execution_count": 11
        }
      ]
    },
    {
      "cell_type": "code",
      "source": [
        "input_ids = inputs['input_ids']\n",
        "attention_masks = inputs['attention_mask']"
      ],
      "metadata": {
        "id": "89QYS1EISbJh"
      },
      "execution_count": 12,
      "outputs": []
    },
    {
      "cell_type": "code",
      "execution_count": 13,
      "metadata": {
        "id": "xWqwRFD6h56Q"
      },
      "outputs": [],
      "source": [
        "quantization_config = BitsAndBytesConfig(load_in_4bit=True,\n",
        "                                         bnb_4bit_compute_dtype=torch.float16,\n",
        "                                         bnb_4bit_quant_type='nf4')"
      ]
    },
    {
      "cell_type": "code",
      "source": [
        "model = AutoModelForCausalLM.from_pretrained(f'meta-llama/{model_name}',\n",
        "                                             device_map='cuda:0',\n",
        "                                             quantization_config=quantization_config)"
      ],
      "metadata": {
        "colab": {
          "base_uri": "https://localhost:8080/",
          "height": 49,
          "referenced_widgets": [
            "710a13b4abce4ea29ff930aa2c815a34",
            "c486a0a967234e10ac0d79e765d2c501",
            "39f57af83fff497eb560324f6f9486c1",
            "b1916c486ced4722bfa2a1d3cab7f85b",
            "e288443ff70c490ab003ef707d87204a",
            "dc7f4a37ccf749708b53b29a2114fa8b",
            "2e950462c9e544cd82d729b2862580d7",
            "b6789677f9794b6d94136b4c5012cae0",
            "22bedac6a2d64806b40fdb38e72a6787",
            "3c55d1ec800141b5a99073c2293788f9",
            "4497c5ff65434691aab8bdb605050fa2"
          ]
        },
        "collapsed": true,
        "id": "u9_uE1IviSA-",
        "outputId": "7f6e5033-1360-458c-cdb5-90be353226ee"
      },
      "execution_count": 14,
      "outputs": [
        {
          "output_type": "display_data",
          "data": {
            "text/plain": [
              "Loading checkpoint shards:   0%|          | 0/2 [00:00<?, ?it/s]"
            ],
            "application/vnd.jupyter.widget-view+json": {
              "version_major": 2,
              "version_minor": 0,
              "model_id": "710a13b4abce4ea29ff930aa2c815a34"
            }
          },
          "metadata": {}
        }
      ]
    },
    {
      "cell_type": "code",
      "source": [
        "output_ids = model.generate(input_ids=input_ids,\n",
        "                            attention_mask=attention_masks,\n",
        "                            max_new_tokens=padding_size,\n",
        "                            pad_token_id=tokenizer.bos_token_id,\n",
        "                            num_return_sequences=1,\n",
        "                            no_repeat_ngram_size=2,\n",
        "                            repetition_penalty=2.0,\n",
        "               #do_sample=True,\n",
        "               #temperature=0.5,\n",
        "               #top_p=0.5,\n",
        "               #top_k=1\n",
        "                            )"
      ],
      "metadata": {
        "colab": {
          "base_uri": "https://localhost:8080/"
        },
        "collapsed": true,
        "id": "chXtPnfbnz7Y",
        "outputId": "77c98436-90fb-42cd-f19d-df3d7e7c3a7d"
      },
      "execution_count": 15,
      "outputs": [
        {
          "output_type": "stream",
          "name": "stderr",
          "text": [
            "/usr/local/lib/python3.10/dist-packages/transformers/generation/utils.py:2097: UserWarning: You are calling .generate() with the `input_ids` being on a device type different than your model's device. `input_ids` is on cpu, whereas the model is on cuda. You may experience unexpected behaviors or slower generation. Please make sure that you have put `input_ids` to the correct device by calling for example input_ids = input_ids.to('cuda') before running `.generate()`.\n",
            "  warnings.warn(\n"
          ]
        }
      ]
    },
    {
      "cell_type": "code",
      "source": [
        "output_ids"
      ],
      "metadata": {
        "colab": {
          "base_uri": "https://localhost:8080/"
        },
        "id": "NaFeJhJuWiUz",
        "outputId": "7f2b3063-379c-4103-fd00-a2cbcb83ef8d"
      },
      "execution_count": 16,
      "outputs": [
        {
          "output_type": "execute_result",
          "data": {
            "text/plain": [
              "tensor([[    1,  4103,  9632,  ...,  8459,    13, 18627],\n",
              "        [    1,  4103,  9632,  ..., 29874, 29908,   322],\n",
              "        [    1,  4103,  9632,  ..., 29889, 21490,   264],\n",
              "        ...,\n",
              "        [    1,  4103,  9632,  ..., 23196, 29915, 29879],\n",
              "        [    1,  4103,  9632,  ..., 27581, 29892,   445],\n",
              "        [    1,  4103,  9632,  ...,  2023,     2,     1]])"
            ]
          },
          "metadata": {},
          "execution_count": 16
        }
      ]
    },
    {
      "cell_type": "code",
      "source": [
        "out_sentences = []\n",
        "for out_ids in output_ids:\n",
        "    out_s = tokenizer.decode(out_ids,\n",
        "                             skip_special_tokens=True,\n",
        "                             clean_up_tokenization_spaces=True)\n",
        "    out_sentences.append(out_s)"
      ],
      "metadata": {
        "id": "9NBVeMQjS9cH"
      },
      "execution_count": 18,
      "outputs": []
    },
    {
      "cell_type": "code",
      "source": [
        "out_sentences"
      ],
      "metadata": {
        "colab": {
          "base_uri": "https://localhost:8080/"
        },
        "id": "J-L4e6VTW834",
        "outputId": "04728385-d7d1-45d3-d305-f1f7c54fc34e"
      },
      "execution_count": 19,
      "outputs": [
        {
          "output_type": "execute_result",
          "data": {
            "text/plain": [
              "['Translate from English to Spanish: I was feeling very hungry and so i decided\\n Hinweis',\n",
              " 'Translate from English to Spanish: My father is a doctor. Unterscheidung between \"a\" and',\n",
              " 'Translate from English to Spanish: Some people may not be able, or willing. Bedeuten',\n",
              " 'Translate from English to Spanish: The Super Bowl\\n obviously means \"El super bowl\"',\n",
              " 'Translate from English to Spanish: The iTalki Platform\\n sierp 21,',\n",
              " 'Translate from English to Spanish: Tom was tired of eating the same old thing every day',\n",
              " \"Translate from English to Spanish: When you're in a new place, it can be\",\n",
              " \"Translate from English to Spanish: When you're in a new city, it can be\",\n",
              " 'Translate from English to Spanish: You should be able. Hinweis für die Nutzer von',\n",
              " 'Translate from English to Spanish: If you are looking for a professional translation service, look no',\n",
              " 'Translate from English to Spanish: Disconnect\\n Unterscheidung between \"disconnection\" and its translation',\n",
              " 'Translate from English to Spanish: I look forward\\n Hinweis auf die Verwendung von Cookies',\n",
              " 'Translate from English to Spanish: The attitude of the teacher towards his/her students\\n everybody',\n",
              " 'Translate from English to Spanish: The bandwidth of a digital camera is the range or scope',\n",
              " 'Translate from English to Spanish: There were no injuries or damages reported during the accident',\n",
              " 'Translate from English to Spanish: Tom felt a sudden rush of excitement. Hinweis zu den',\n",
              " 'Translate from English to Spanish: Tom prefers the company of women. Bedeutung von \"',\n",
              " 'Translate from English to Spanish: Tom sprinkled the sugar on his cereal.',\n",
              " 'Translate from English to Spanish: If you are a non-native speaker of both languages,',\n",
              " 'Translate from English to Spanish: It takes a village\\n Einzeln translation agency is the best',\n",
              " \"Translate from English to Spanish: Mary's house is _____________. everybody loves\",\n",
              " 'Translate from English to Spanish: On school days, the children go. hopefully\\nFrom what',\n",
              " 'Translate from English to Spanish: Some people say that the best way\\n everybody learns a',\n",
              " 'Translate from English to Spanish: The world is a book, and those who do not travel',\n",
              " 'Translate from English to Spanish: Tom and Jerry (1940)\\n Begriffe und',\n",
              " 'Translate from English to Spanish: Tom thinks he can do it himself. Hinweis auf die Cor',\n",
              " 'Translate from English to Spanish: During hard times, people often seek out new experiences and activities',\n",
              " 'Translate from English to Spanish: If you are looking for a way...\\n Unterscheidung between different',\n",
              " 'Translate from English to Spanish: Some superlatives are formed by adding -est or –',\n",
              " 'Translate from English to Spanish: The trouble with being in love\\n everybody knows it is a',\n",
              " 'Translate from English to Spanish: The worst thing you can do is translate something word-for',\n",
              " 'Translate from English to Spanish: Thomas A. nobody here but us chillens\\nTh',\n",
              " 'Translate from English to Spanish: Tom was talking with his friend. nobody\\nTranslation of',\n",
              " 'Translate from English to Spanish: We were at the park and saw a big tree.его',\n",
              " 'Translate from English to Spanish: What\\'s the difference between \"I have a headache',\n",
              " 'Translate from English to Spanish: If your mother were alive, she would be proud of you',\n",
              " 'Translate from English to Spanish: Last year, I had the opportunity of a lifetime when.',\n",
              " 'Translate from English to Spanish: The website uses a third-party service provided by Google Ed',\n",
              " 'Translate from English to Spanish: Tom asked for the bill, please. Einzelnes is a',\n",
              " \"Translate from English to Spanish: Tom couldn't find his keys. everybody was talking at\",\n",
              " 'Translate from English to Spanish: We were unable. everybody was out of the office, so',\n",
              " 'Translate from English to Spanish: When I wake up in the morning,\\n nobody is',\n",
              " 'Translate from English to Spanish: Within the next 24 hours, I will complete all',\n",
              " 'Translate from English to Spanish: At one point, the group of people I was with were',\n",
              " 'Translate from English to Spanish: Cats have claws that they use for climbing,',\n",
              " 'Translate from English to Spanish: He began the letter by saying how much he enjoyed his trip',\n",
              " 'Translate from English to Spanish: He got up and walked away. nobody knew where he was',\n",
              " \"Translate from English to Spanish: Incident at O'Hare\\n Hinweis für die Ben\",\n",
              " 'Translate from English to Spanish: Last year, I was in a rut. Hinweis auf',\n",
              " 'Translate from English to Spanish: The seven deadly sins\\n Unterscheidung von Englisch',\n",
              " 'Translate from English to Spanish: There have been several studies on the effects of social media use',\n",
              " \"Translate from English to Spanish: We're not sure if you have the right person.\",\n",
              " 'Translate from English to Spanish: Why did you say that?\\n kwietnik.pl/',\n",
              " \"Translate from English to Spanish: I like you. everybody likes me\\nI'm\",\n",
              " 'Translate from English to Spanish: I talked about it with him.ϊn the past t',\n",
              " 'Translate from English to Spanish: Eight Tips for Accurate and Fluent Inter',\n",
              " \"Translate from English to Spanish: I don't know what you want me...\\n everybody\",\n",
              " 'Translate from English to Spanish: I don\\'t want you. Unterscheidung between \"I Don',\n",
              " 'Translate from English to Spanish: If you are looking for a way. sierpina translate eng',\n",
              " 'Translate from English to Spanish: It is important that you understand the meaning of each word and',\n",
              " \"Translate from English to Spanish: It's not just about words\\n Hinweis für Anf\",\n",
              " 'Translate from English to Spanish: The Internet is a global network of interconnected computer networks that',\n",
              " 'Translate from English to Spanish: When we talk about the word \"mother\", it can',\n",
              " 'Translate from English to Spanish: A lot of people do not know how you can translate text',\n",
              " 'Translate from English to Spanish: I can help you with that!\\n hopefully, the following',\n",
              " \"Translate from English to Spanish: It doesn't have a gender\\n hopefully it will help\",\n",
              " 'Translate from English to Spanish: It doesn\\'t make sense\\n Unterscheidung between \"It makes',\n",
              " 'Translate from English to Spanish: Masculine and Feminie Nouns\\n Hinweis',\n",
              " 'Translate from English to Spanish: The graphic novel and the comics industry\\n Begriffe und',\n",
              " \"Translate from English to Spanish: Even though I don't speak much spanish, the\",\n",
              " 'Translate from English to Spanish: I realize that this is a very common sentence, but it',\n",
              " 'Translate from English to Spanish: In preparation for the upcoming trip, I have been',\n",
              " 'Translate from English to Spanish: Life would be so much easier if I could just translate everything',\n",
              " 'Translate from English to Spanish: People often use the phrase \"bend over backwards\" when',\n",
              " 'Translate from English to Spanish: Something you have been doing for a long time\\n hopefully,',\n",
              " 'Translate from English to Spanish: The police are looking for a man with dark hair and brown',\n",
              " 'Translate from English to Spanish: Tom got a new job as an accountant. Einzeln means',\n",
              " 'Translate from English to Spanish: Tom pressed the button and nothing happened. Einzeln means \"alone',\n",
              " 'Translate from English to Spanish: Tom was a bit nervous about the exam. Unterscheidung of',\n",
              " 'Translate from English to Spanish: I know that you are a good person. nobody is perfect',\n",
              " 'Translate from English to Spanish: Acting on Impulse\\n фев 20,...',\n",
              " 'Translate from English to Spanish: I came across a book about the history of my homet',\n",
              " \"Translate from English to Spanish: I know what you're saying, but...\\n hopefully\",\n",
              " 'Translate from English to Spanish: I know that you are a good person, but...\\n',\n",
              " 'Translate from English to Spanish: I know you are, but what am i?\\n Begriffe',\n",
              " 'Translate from English to Spanish: The World is a Beautiful Place & I Am Happy To Be',\n",
              " \"Translate from English to Spanish: The economic and social impact of climate change on the world'\",\n",
              " 'Translate from English to Spanish: The teacher asked the students if they had any questions. Unterscheidung',\n",
              " 'Translate from English to Spanish: Babies can learn language by listening and imitating sounds',\n",
              " 'Translate from English to Spanish: Did you know that...\\n kwiet 21,...',\n",
              " 'Translate from English to Spanish: Everybody\\n everybody is happy. (Everyone)',\n",
              " \"Translate from English to Spanish: The Hitchhiker's Guide To the Galaxy\",\n",
              " 'Translate from English to Spanish: The police officer asked me if I had any weapons on my',\n",
              " \"Translate from English to Spanish: Tom hadn't eaten anything all day. Bedeutung\",\n",
              " 'Translate from English to Spanish: Tom likes playing football. Unterscheidung between \"Tom\" and',\n",
              " 'Translate from English to Spanish: Tom was looking forward\\n everybody. He had been planning this',\n",
              " 'Translate from English to Spanish: What kind of jobs are available for translators?\\n Einzeln',\n",
              " \"Translate from English to Spanish: Witness\\n everybody's favorite pastime, the annual\",\n",
              " 'Translate from English to Spanish: After talking for a while, we decided. Hinweis auf die',\n",
              " 'Translate from English to Spanish: The Beloved\\n Unterscheidung von \"belovéd\" und',\n",
              " \"Translate from English to Spanish: Tom's of Maine\\n hopefully, you will be able\",\n",
              " \"Translate from English to Spanish: How's this?\\n nobody knows. /nob\",\n",
              " 'Translate from English to Spanish: Getting your message across in a foreign language\\n Einzelnes is',\n",
              " 'Translate from English to Spanish: Over 10,649 words and phrases',\n",
              " \"Translate from English to Spanish: Over 14,053 words. everybody'\",\n",
              " 'Translate from English to Spanish: The typical American breakfast\\n живело 250 million people',\n",
              " 'Translate from English to Spanish: Tom laughed at the joke. everybody was laughing\\n',\n",
              " 'Translate from English to Spanish: Tom tried his best. Unterscheidung between \"best\" and its',\n",
              " 'Translate from English to Spanish: A man is walking down the street, and he sees a',\n",
              " 'Translate from English to Spanish: A man and a woman were seen walking together. nobody knows',\n",
              " 'Translate from English to Spanish: Being happy is a choice\\n Unterscheidung between \"happy\"',\n",
              " 'Translate from English to Spanish: Dr. everybody\\nTranslation of \"Dr.\" inSpan',\n",
              " 'Translate from English to Spanish: Every student of a foreign language needs tools that can help them',\n",
              " 'Translate from English to Spanish: If you are looking for a way...\\n Unterscheidung von Original',\n",
              " 'Translate from English to Spanish: It took us 5 minutes. февраль (Febru',\n",
              " 'Translate from English to Spanish: Nobody likes a know-it...\\n everybody lov',\n",
              " 'Translate from English to Spanish: Tom and Jerry\\n nobody can stop us. /nob',\n",
              " \"Translate from English to Spanish: Tom didn't like the food. Hinweis auf die Ver\",\n",
              " 'Translate from English to Spanish: Even though I have been studying for a while, my language',\n",
              " 'Translate from English to Spanish: I had a great time last night. nobody was hurt during',\n",
              " 'Translate from English to Spanish: The room was small and dimly lit, with only a',\n",
              " 'Translate from English to Spanish: When does a woman have the right?\\n everybody has rights',\n",
              " 'Translate from English to Spanish: Four of the Most Common Mistakes\\n Hinweis für die',\n",
              " 'Translate from English to Spanish: Four of the Most Common Phrases\\n Hinweis für die',\n",
              " 'Translate from English to Spanish: My friend and I are going on a road trip. everybody',\n",
              " 'Translate from English to Spanish: Roger Miller\\'s \"King of the Road\"\\n',\n",
              " 'Translate from English to Spanish: A dog is barking at the door.ℓ�',\n",
              " 'Translate from English to Spanish: A trade show is a gathering of businesses or organizations',\n",
              " 'Translate from English to Spanish: After talking for a long time, they finally decided.его',\n",
              " 'Translate from English to Spanish: After talking with the doctor, I realized that my symptoms',\n",
              " 'Translate from English to Spanish: Anyone whose first language is not necessarily American. Hinweis für alle',\n",
              " 'Translate from English to Spanish: I think it is important for everyone, regardless of their background',\n",
              " 'Translate from English to Spanish: I was feeling very anxious and worried about my exam.',\n",
              " 'Translate from English to Spanish: Tom isn\\'t here right now. Unterscheidung between \"Tom',\n",
              " 'Translate from English to Spanish: Cesar Chavez\\n hopefully this will help. Here',\n",
              " 'Translate from English to Spanish: Even now, I am still learning. Hinweis on the importance',\n",
              " 'Translate from English to Spanish: Tom absorbent cotton balls\\n Unterscheidung von Absor',\n",
              " 'Translate from English to Spanish: We should not judge a book by its cover. Einzeln means',\n",
              " 'Translate from English to Spanish: A lot of people are using social media platforms like Facebook and',\n",
              " \"Translate from English to Spanish: It's a beautiful day in the neighborhood. hopefully it\",\n",
              " 'Translate from English to Spanish: The difference between \"happened\" and...\\n Einzeln',\n",
              " \"Translate from English to Spanish: Tom didn't have enough money. Hinweis für die Übers\",\n",
              " 'Translate from English to Spanish: Your English phrase/sentence is translated into correct and natural',\n",
              " 'Translate from English to Spanish: I have a lot of experience with this language pair, and',\n",
              " 'Translate from English to Spanish: I have a lot of experience in using translation software and tools',\n",
              " 'Translate from English to Spanish: The world is a book, and those who do not travel',\n",
              " 'Translate from English to Spanish: All the Best Words\\n Hinweis auf eine bestimmte',\n",
              " 'Translate from English to Spanish: One thing that is important for a successful translation project, whether',\n",
              " 'Translate from English to Spanish: Jingle Bells\\n nobody knows who wrote the song',\n",
              " 'Translate from English to Spanish: Jingle Bells\\n Unterscheidung von Englisch nach',\n",
              " 'Translate from English to Spanish: I used the following resources for this translation. nobody knows you',\n",
              " 'Translate from English to Spanish: If your grandmother were alive, she would be proud',\n",
              " 'Translate from English to Spanish: The English word \"sand\" can be translated into several',\n",
              " 'Translate from English to Spanish: Instead of \"I\\'m happy\" or “Esto',\n",
              " 'Translate from English to Spanish: Singer-songwriter\\n sierpni 15,',\n",
              " 'Translate from English to Spanish: You always have the option of translating your text back and',\n",
              " 'Translate from English to Spanish: A good translation is like a bridge between two cultures.',\n",
              " 'Translate from English to Spanish: Food prices are rising\\n Unterscheidung between the two words \"fo',\n",
              " \"Translate from English to Spanish: I'm not sure if you are aware, but...\",\n",
              " \"Translate from English to Spanish: No matter what you do, don't forget about your\",\n",
              " 'Translate from English to Spanish: When Tomorrow Comes (lyrics)\\n hopefully this',\n",
              " 'Translate from English to Spanish: When Tomorrow Comes\\n Hinweis auf die Verwendung von',\n",
              " 'Translate from English to Spanish: Satellite imagery\\n nobody knows the truth about you.',\n",
              " 'Translate from English to Spanish: Honey\\n Hinweis (Hinweis) = Warning.',\n",
              " 'Translate from English to Spanish: In the modern world, technology has made communication faster and more',\n",
              " 'Translate from English to Spanish: Tom went on a date with his coworker. Hinweis',\n",
              " 'Translate from English to Spanish: Whenever you need a word or phrase translated into the beautiful',\n",
              " 'Translate from English to Spanish: A committee is a group of people who work together on something',\n",
              " 'Translate from English to Spanish: Oh, how I wish that you would stop making me feel',\n",
              " 'Translate from English to Spanish: In 2015, the United States and Cuba',\n",
              " 'Translate from English to Spanish: January, February and March\\n Hinweis! These dates are in',\n",
              " 'Translate from English to Spanish: Tom hadn\\'t seen Sarah for ages. Unterscheidung von \"',\n",
              " 'Translate from English to Spanish: One way of doing this is by using a translation software or',\n",
              " 'Translate from English to Spanish: The twelve days of Christmas\\n Begriffe und Termine in der',\n",
              " 'Translate from English to Spanish: I want you (plural)\\n Unterscheidung between \"you',\n",
              " 'Translate from English to Spanish: She has been studying for three hours. everybody is talking about',\n",
              " 'Translate from English to Spanish: Always use the correct verb tense. Hinweis 10',\n",
              " 'Translate from English to Spanish: I think, therefore i am\\n nobody knows.',\n",
              " 'Translate from English to Spanish: You can use online translation tools or services, such as Google',\n",
              " 'Translate from English to Spanish: If you want a translation that is accurate and reliable, look',\n",
              " 'Translate from English to Spanish: People speak different languages, and sometimes it can be challenging',\n",
              " 'Translate from English to Spanish: The Australian Government\\n everybody. This is a free service provided',\n",
              " 'Translate from English to Spanish: The Trip\\n Einzeln, the trip / journey. ',\n",
              " 'Translate from English to Spanish: You may be surprised at how much you can learn by simply',\n",
              " 'Translate from English to Spanish: If a tree falls in the forest and no one is around',\n",
              " \"Translate from English to Spanish: It's not just about the words\\n Hinweis auf die\",\n",
              " 'Translate from English to Spanish: You can translate words, phrases and sentences. HinweisW',\n",
              " 'Translate from English to Spanish: You can use online translation tools or professional translators for this',\n",
              " 'Translate from English to Spanish: You can translate a text or document into the language of your',\n",
              " 'Translate from English to Spanish: A mistake-free translation\\n everybody wants their content or website',\n",
              " 'Translate from English to Spanish: No matter what you are looking for, there is a high',\n",
              " 'Translate from English to Spanish: In 2019, the global market size of',\n",
              " 'Translate from English to Spanish: A child is crying. Begriffe und Terminologie der',\n",
              " 'Translate from English to Spanish: There are many ways in which you can translate something. nobody',\n",
              " 'Translate from English to Spanish: There are many ways in which you can translate words or phr',\n",
              " 'Translate from English to Spanish: A carbonated beverage. nobody knows the answer?\\n',\n",
              " 'Translate from English to Spanish: Since there are many ways in which you can translate the word',\n",
              " \"Translate from English to Spanish: If you are looking for a way...\\n nobody's\",\n",
              " 'Translate from English to Spanish: It may be a good idea for you\\n hopefully, this',\n",
              " 'Translate from English to Spanish: One day\\n Unterscheidung between \"one\" and...']"
            ]
          },
          "metadata": {},
          "execution_count": 19
        }
      ]
    }
  ]
}